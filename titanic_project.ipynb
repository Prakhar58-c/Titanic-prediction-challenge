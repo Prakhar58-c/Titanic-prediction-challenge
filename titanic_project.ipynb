{
 "cells": [
  {
   "cell_type": "markdown",
   "metadata": {},
   "source": [
    "# Titanic project: a first on kaggle\n",
    "\n",
    "The following is the my first independent attempt at machine learning to find solutions to a problem, I have used packages such as pandas, sklearn and numpy to solve some of the problems. "
   ]
  },
  {
   "cell_type": "code",
   "execution_count": 1,
   "metadata": {},
   "outputs": [
    {
     "data": {
      "text/html": [
       "<div>\n",
       "<style scoped>\n",
       "    .dataframe tbody tr th:only-of-type {\n",
       "        vertical-align: middle;\n",
       "    }\n",
       "\n",
       "    .dataframe tbody tr th {\n",
       "        vertical-align: top;\n",
       "    }\n",
       "\n",
       "    .dataframe thead th {\n",
       "        text-align: right;\n",
       "    }\n",
       "</style>\n",
       "<table border=\"1\" class=\"dataframe\">\n",
       "  <thead>\n",
       "    <tr style=\"text-align: right;\">\n",
       "      <th></th>\n",
       "      <th>PassengerId</th>\n",
       "      <th>Pclass</th>\n",
       "      <th>Name</th>\n",
       "      <th>Sex</th>\n",
       "      <th>Age</th>\n",
       "      <th>SibSp</th>\n",
       "      <th>Parch</th>\n",
       "      <th>Ticket</th>\n",
       "      <th>Fare</th>\n",
       "      <th>Cabin</th>\n",
       "      <th>Embarked</th>\n",
       "    </tr>\n",
       "  </thead>\n",
       "  <tbody>\n",
       "    <tr>\n",
       "      <th>0</th>\n",
       "      <td>892</td>\n",
       "      <td>3</td>\n",
       "      <td>Kelly, Mr. James</td>\n",
       "      <td>male</td>\n",
       "      <td>0.298549</td>\n",
       "      <td>0</td>\n",
       "      <td>0</td>\n",
       "      <td>330911</td>\n",
       "      <td>-0.497811</td>\n",
       "      <td>NaN</td>\n",
       "      <td>Q</td>\n",
       "    </tr>\n",
       "    <tr>\n",
       "      <th>1</th>\n",
       "      <td>893</td>\n",
       "      <td>3</td>\n",
       "      <td>Wilkes, Mrs. James (Ellen Needs)</td>\n",
       "      <td>female</td>\n",
       "      <td>1.181328</td>\n",
       "      <td>1</td>\n",
       "      <td>0</td>\n",
       "      <td>363272</td>\n",
       "      <td>-0.512660</td>\n",
       "      <td>NaN</td>\n",
       "      <td>S</td>\n",
       "    </tr>\n",
       "    <tr>\n",
       "      <th>2</th>\n",
       "      <td>894</td>\n",
       "      <td>2</td>\n",
       "      <td>Myles, Mr. Thomas Francis</td>\n",
       "      <td>male</td>\n",
       "      <td>2.240662</td>\n",
       "      <td>0</td>\n",
       "      <td>0</td>\n",
       "      <td>240276</td>\n",
       "      <td>-0.464532</td>\n",
       "      <td>NaN</td>\n",
       "      <td>Q</td>\n",
       "    </tr>\n",
       "    <tr>\n",
       "      <th>3</th>\n",
       "      <td>895</td>\n",
       "      <td>3</td>\n",
       "      <td>Wirz, Mr. Albert</td>\n",
       "      <td>male</td>\n",
       "      <td>-0.231118</td>\n",
       "      <td>0</td>\n",
       "      <td>0</td>\n",
       "      <td>315154</td>\n",
       "      <td>-0.482888</td>\n",
       "      <td>NaN</td>\n",
       "      <td>S</td>\n",
       "    </tr>\n",
       "    <tr>\n",
       "      <th>4</th>\n",
       "      <td>896</td>\n",
       "      <td>3</td>\n",
       "      <td>Hirvonen, Mrs. Alexander (Helga E Lindqvist)</td>\n",
       "      <td>female</td>\n",
       "      <td>-0.584229</td>\n",
       "      <td>1</td>\n",
       "      <td>1</td>\n",
       "      <td>3101298</td>\n",
       "      <td>-0.417971</td>\n",
       "      <td>NaN</td>\n",
       "      <td>S</td>\n",
       "    </tr>\n",
       "  </tbody>\n",
       "</table>\n",
       "</div>"
      ],
      "text/plain": [
       "   PassengerId  Pclass                                          Name     Sex  \\\n",
       "0          892       3                              Kelly, Mr. James    male   \n",
       "1          893       3              Wilkes, Mrs. James (Ellen Needs)  female   \n",
       "2          894       2                     Myles, Mr. Thomas Francis    male   \n",
       "3          895       3                              Wirz, Mr. Albert    male   \n",
       "4          896       3  Hirvonen, Mrs. Alexander (Helga E Lindqvist)  female   \n",
       "\n",
       "        Age  SibSp  Parch   Ticket      Fare Cabin Embarked  \n",
       "0  0.298549      0      0   330911 -0.497811   NaN        Q  \n",
       "1  1.181328      1      0   363272 -0.512660   NaN        S  \n",
       "2  2.240662      0      0   240276 -0.464532   NaN        Q  \n",
       "3 -0.231118      0      0   315154 -0.482888   NaN        S  \n",
       "4 -0.584229      1      1  3101298 -0.417971   NaN        S  "
      ]
     },
     "metadata": {},
     "output_type": "display_data"
    }
   ],
   "source": [
    "from IPython.display import display, Markdown\n",
    "import numpy as np\n",
    "import pandas as pd\n",
    "from sklearn.svm import SVC \n",
    "from sklearn.preprocessing import OneHotEncoder, StandardScaler\n",
    "\n",
    "enc = OneHotEncoder(handle_unknown='ignore')\n",
    "sts = StandardScaler()\n",
    "df = pd.read_csv('c:/Users/Prakhar/Downloads/first-/train.csv')\n",
    "feature_scale = ['Fare','Age']\n",
    "df[feature_scale] = sts.fit_transform(df[feature_scale])\n",
    "df.dropna()\n",
    "#print(df['Sex'])\n",
    "# the test data which is to be predicted\n",
    "tes = pd.read_csv('C:/Users/Prakhar/Downloads/first-/test.csv')\n",
    "tes[feature_scale] = sts.fit_transform(tes[feature_scale])\n",
    "display(tes.head(5))\n",
    "tes = tes.loc[:,['Pclass','Sex', 'Age','SibSp','Parch','Fare','Embarked']]\n",
    "prede = tes.to_numpy()"
   ]
  },
  {
   "cell_type": "markdown",
   "metadata": {},
   "source": [
    "### The above is the test data, notice that very less people survived in the incident, so dont be all confused if the output suggests everybody died, as we will see in the traning data."
   ]
  },
  {
   "cell_type": "code",
   "execution_count": 2,
   "metadata": {},
   "outputs": [
    {
     "data": {
      "text/html": [
       "<div>\n",
       "<style scoped>\n",
       "    .dataframe tbody tr th:only-of-type {\n",
       "        vertical-align: middle;\n",
       "    }\n",
       "\n",
       "    .dataframe tbody tr th {\n",
       "        vertical-align: top;\n",
       "    }\n",
       "\n",
       "    .dataframe thead th {\n",
       "        text-align: right;\n",
       "    }\n",
       "</style>\n",
       "<table border=\"1\" class=\"dataframe\">\n",
       "  <thead>\n",
       "    <tr style=\"text-align: right;\">\n",
       "      <th></th>\n",
       "      <th>PassengerId</th>\n",
       "      <th>Survived</th>\n",
       "      <th>Pclass</th>\n",
       "      <th>Name</th>\n",
       "      <th>Sex</th>\n",
       "      <th>Age</th>\n",
       "      <th>SibSp</th>\n",
       "      <th>Parch</th>\n",
       "      <th>Ticket</th>\n",
       "      <th>Fare</th>\n",
       "      <th>Cabin</th>\n",
       "      <th>Embarked</th>\n",
       "    </tr>\n",
       "  </thead>\n",
       "  <tbody>\n",
       "    <tr>\n",
       "      <th>0</th>\n",
       "      <td>1</td>\n",
       "      <td>0</td>\n",
       "      <td>3</td>\n",
       "      <td>Braund, Mr. Owen Harris</td>\n",
       "      <td>male</td>\n",
       "      <td>-0.530377</td>\n",
       "      <td>1</td>\n",
       "      <td>0</td>\n",
       "      <td>A/5 21171</td>\n",
       "      <td>-0.502445</td>\n",
       "      <td>NaN</td>\n",
       "      <td>S</td>\n",
       "    </tr>\n",
       "    <tr>\n",
       "      <th>1</th>\n",
       "      <td>2</td>\n",
       "      <td>1</td>\n",
       "      <td>1</td>\n",
       "      <td>Cumings, Mrs. John Bradley (Florence Briggs Th...</td>\n",
       "      <td>female</td>\n",
       "      <td>0.571831</td>\n",
       "      <td>1</td>\n",
       "      <td>0</td>\n",
       "      <td>PC 17599</td>\n",
       "      <td>0.786845</td>\n",
       "      <td>C85</td>\n",
       "      <td>C</td>\n",
       "    </tr>\n",
       "    <tr>\n",
       "      <th>2</th>\n",
       "      <td>3</td>\n",
       "      <td>1</td>\n",
       "      <td>3</td>\n",
       "      <td>Heikkinen, Miss. Laina</td>\n",
       "      <td>female</td>\n",
       "      <td>-0.254825</td>\n",
       "      <td>0</td>\n",
       "      <td>0</td>\n",
       "      <td>STON/O2. 3101282</td>\n",
       "      <td>-0.488854</td>\n",
       "      <td>NaN</td>\n",
       "      <td>S</td>\n",
       "    </tr>\n",
       "    <tr>\n",
       "      <th>3</th>\n",
       "      <td>4</td>\n",
       "      <td>1</td>\n",
       "      <td>1</td>\n",
       "      <td>Futrelle, Mrs. Jacques Heath (Lily May Peel)</td>\n",
       "      <td>female</td>\n",
       "      <td>0.365167</td>\n",
       "      <td>1</td>\n",
       "      <td>0</td>\n",
       "      <td>113803</td>\n",
       "      <td>0.420730</td>\n",
       "      <td>C123</td>\n",
       "      <td>S</td>\n",
       "    </tr>\n",
       "    <tr>\n",
       "      <th>4</th>\n",
       "      <td>5</td>\n",
       "      <td>0</td>\n",
       "      <td>3</td>\n",
       "      <td>Allen, Mr. William Henry</td>\n",
       "      <td>male</td>\n",
       "      <td>0.365167</td>\n",
       "      <td>0</td>\n",
       "      <td>0</td>\n",
       "      <td>373450</td>\n",
       "      <td>-0.486337</td>\n",
       "      <td>NaN</td>\n",
       "      <td>S</td>\n",
       "    </tr>\n",
       "  </tbody>\n",
       "</table>\n",
       "</div>"
      ],
      "text/plain": [
       "   PassengerId  Survived  Pclass  \\\n",
       "0            1         0       3   \n",
       "1            2         1       1   \n",
       "2            3         1       3   \n",
       "3            4         1       1   \n",
       "4            5         0       3   \n",
       "\n",
       "                                                Name     Sex       Age  SibSp  \\\n",
       "0                            Braund, Mr. Owen Harris    male -0.530377      1   \n",
       "1  Cumings, Mrs. John Bradley (Florence Briggs Th...  female  0.571831      1   \n",
       "2                             Heikkinen, Miss. Laina  female -0.254825      0   \n",
       "3       Futrelle, Mrs. Jacques Heath (Lily May Peel)  female  0.365167      1   \n",
       "4                           Allen, Mr. William Henry    male  0.365167      0   \n",
       "\n",
       "   Parch            Ticket      Fare Cabin Embarked  \n",
       "0      0         A/5 21171 -0.502445   NaN        S  \n",
       "1      0          PC 17599  0.786845   C85        C  \n",
       "2      0  STON/O2. 3101282 -0.488854   NaN        S  \n",
       "3      0            113803  0.420730  C123        S  \n",
       "4      0            373450 -0.486337   NaN        S  "
      ]
     },
     "metadata": {},
     "output_type": "display_data"
    }
   ],
   "source": [
    "display(df.head(5))"
   ]
  },
  {
   "cell_type": "markdown",
   "metadata": {},
   "source": [
    "#### The above is the training data, further code will reveal some interesting insights about the data."
   ]
  },
  {
   "cell_type": "markdown",
   "metadata": {},
   "source": [
    "#### Survival ratio is:"
   ]
  },
  {
   "cell_type": "code",
   "execution_count": 3,
   "metadata": {},
   "outputs": [
    {
     "data": {
      "text/plain": [
       "0.3838383838383838"
      ]
     },
     "metadata": {},
     "output_type": "display_data"
    }
   ],
   "source": [
    "display(df.Survived.mean())"
   ]
  },
  {
   "cell_type": "markdown",
   "metadata": {},
   "source": [
    "#### The following provides detail regarding mean age, various embarked stations across all the passengers and the fare paid by all. \n",
    "An undocumented attempt has been comitted by me, in that project but I took less parameters."
   ]
  },
  {
   "cell_type": "code",
   "execution_count": 4,
   "metadata": {},
   "outputs": [
    {
     "data": {
      "text/plain": [
       "S    644\n",
       "C    168\n",
       "Q     77\n",
       "Name: Embarked, dtype: int64"
      ]
     },
     "metadata": {},
     "output_type": "display_data"
    },
    {
     "data": {
      "text/plain": [
       "-0.486337    43\n",
       "-0.386671    42\n",
       "-0.489442    38\n",
       "-0.492378    34\n",
       "-0.124920    31\n",
       "             ..\n",
       "-0.298078     1\n",
       "-0.567631     1\n",
       "-0.457478     1\n",
       "-0.369305     1\n",
       "-0.473586     1\n",
       "Name: Fare, Length: 248, dtype: int64"
      ]
     },
     "metadata": {},
     "output_type": "display_data"
    },
    {
     "data": {
      "text/plain": [
       "2.388378943731429e-16"
      ]
     },
     "metadata": {},
     "output_type": "display_data"
    }
   ],
   "source": [
    "display(df.Embarked.value_counts())\n",
    "\n",
    "display(df.Fare.value_counts())\n",
    "\n",
    "display(df.Age.mean())"
   ]
  },
  {
   "cell_type": "markdown",
   "metadata": {},
   "source": [
    "#### The following methods are used to clean the data and convert them into numeric types, this will make the data easily digestable by the algorithms in the sklearn package."
   ]
  },
  {
   "cell_type": "code",
   "execution_count": 5,
   "metadata": {},
   "outputs": [
    {
     "data": {
      "text/plain": [
       "array([[ 3.        ,  1.        , -0.53037664,  1.        ,  0.        ,\n",
       "        -0.50244517,  1.        ],\n",
       "       [ 1.        ,  0.        ,  0.57183099,  1.        ,  0.        ,\n",
       "         0.78684529,  2.        ],\n",
       "       [ 3.        ,  0.        , -0.25482473,  0.        ,  0.        ,\n",
       "        -0.48885426,  1.        ],\n",
       "       [ 1.        ,  0.        ,  0.36516706,  1.        ,  0.        ,\n",
       "         0.42073024,  1.        ],\n",
       "       [ 3.        ,  1.        ,  0.36516706,  0.        ,  0.        ,\n",
       "        -0.48633742,  1.        ]])"
      ]
     },
     "metadata": {},
     "output_type": "display_data"
    }
   ],
   "source": [
    "labels = tuple(df['Survived'])\n",
    "# this the traning data label which will be used to train the algorithm.\n",
    "#feature_matrix = []\n",
    "trainy = np.array(labels)\n",
    "\n",
    "\n",
    "\n",
    "\n",
    "# the relevant indexes for our ml purpose is pclass, sex , age , sibsp, parch, Fare, Embarked and\n",
    "df = df.loc[:, ['Pclass', 'Sex', 'Age', 'SibSp', 'Parch','Fare','Embarked']]\n",
    "X = df.to_numpy()\n",
    "#print(X)\n",
    "index_letter = (X == 'S')\n",
    "X[index_letter] = 1\n",
    "index_letter = (X == 'C')\n",
    "X[index_letter] = 2\n",
    "index_letter = (X == 'Q')\n",
    "X[index_letter] = 3\n",
    "index_male = (X == 'male')\n",
    "X[index_male] = 1\n",
    "index_female = (X == 'female')\n",
    "X[index_female] = 0\n",
    "X = np.array(X, dtype=[('O', np.float)]).astype(np.float)\n",
    "index_nan = np.isnan(X)\n",
    "X[index_nan] = 2.388378943731429e-16\n",
    "# Some preprocessing will be added to the data before training the algorithm.\n",
    "\n",
    "display(X[:5])"
   ]
  },
  {
   "cell_type": "markdown",
   "metadata": {},
   "source": [
    "#### In my previous attempts to the problem, I took only four parameters and it created a problem\n",
    "> the first time I did this project the parameters I took were only gender, age, siblings and the parents of the passanger, but the result of the predictions suggested everybody died, so I incresed the parameters, i.e. added the fare and embarked point of the data, and now the results are inline with the 38 percent survival rate of the initial data."
   ]
  },
  {
   "cell_type": "code",
   "execution_count": 6,
   "metadata": {},
   "outputs": [
    {
     "name": "stdout",
     "output_type": "stream",
     "text": [
      "418\n"
     ]
    }
   ],
   "source": [
    "the = SVC(C = 100, kernel='rbf')\n",
    "index_letter = (prede == 'S')\n",
    "prede[index_letter] = 1\n",
    "index_letter = (prede == 'C')\n",
    "prede[index_letter] = 2\n",
    "index_letter = (prede == 'Q')\n",
    "prede[index_letter] = 3\n",
    "index_male = (prede == 'male')\n",
    "prede[index_male] = 1\n",
    "index_female = (prede == 'female')\n",
    "prede[index_female] = 0\n",
    "prede = np.array(prede, dtype=[('O', np.float)]).astype(np.float)\n",
    "index_nan = np.isnan(prede)\n",
    "prede[index_nan] = 2.388378943731429e-16\n",
    "the.fit(X , trainy)\n",
    "\n",
    "pred = the.predict(prede)\n",
    "\n",
    "print(len(pred))"
   ]
  },
  {
   "cell_type": "markdown",
   "metadata": {},
   "source": [
    "#### When you factor in the data regarding the fare paid by the customer, the station from which they embarked the picture becomes clearer regarding the prediction of the data, after this the results of the data will be summarised."
   ]
  },
  {
   "cell_type": "code",
   "execution_count": 7,
   "metadata": {},
   "outputs": [
    {
     "name": "stdout",
     "output_type": "stream",
     "text": [
      "     PassengerId  Survived\n",
      "0            892         0\n",
      "1            893         0\n",
      "2            894         0\n",
      "3            895         0\n",
      "4            896         0\n",
      "..           ...       ...\n",
      "413         1305         0\n",
      "414         1306         1\n",
      "415         1307         0\n",
      "416         1308         0\n",
      "417         1309         0\n",
      "\n",
      "[418 rows x 2 columns]\n"
     ]
    }
   ],
   "source": [
    "resu = pd.read_csv('C:/Users/Prakhar/Downloads/first-/gender_submission.csv')\n",
    "resu.head(5)\n",
    "resul = pd.DataFrame(data = np.transpose([np.array(range(418))+892, pred]), columns=['PassengerId','Survived'])\n",
    "resul.head(5)\n",
    "resul.to_csv('PREDICTIONSfinalpreprocessed.csv', index=False)\n",
    "print(resul)"
   ]
  },
  {
   "cell_type": "markdown",
   "metadata": {},
   "source": [
    "#### In a previous run of the algorithm, using SVC, I took less features(4) and the algorithm predicted that everybody died, after considering more features like the fare and their place of boarding the accuracy drastically increased\n",
    "Some things I picked up from this project are:\n",
    "> importance of taking more and more feature<br> preprocessing of the data is important so there is no unnecessary weight given to a following feature.\n",
    "\n",
    "this has been a great learning experience so far."
   ]
  },
  {
   "cell_type": "code",
   "execution_count": null,
   "metadata": {},
   "outputs": [],
   "source": []
  }
 ],
 "metadata": {
  "kernelspec": {
   "display_name": "Python 3",
   "language": "python",
   "name": "python3"
  },
  "language_info": {
   "codemirror_mode": {
    "name": "ipython",
    "version": 3
   },
   "file_extension": ".py",
   "mimetype": "text/x-python",
   "name": "python",
   "nbconvert_exporter": "python",
   "pygments_lexer": "ipython3",
   "version": "3.8.3"
  }
 },
 "nbformat": 4,
 "nbformat_minor": 2
}
